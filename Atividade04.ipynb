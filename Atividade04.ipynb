{
  "nbformat": 4,
  "nbformat_minor": 0,
  "metadata": {
    "colab": {
      "provenance": [],
      "authorship_tag": "ABX9TyOECZOSSNzVGp1s3XhQzh4O",
      "include_colab_link": true
    },
    "kernelspec": {
      "name": "python3",
      "display_name": "Python 3"
    },
    "language_info": {
      "name": "python"
    }
  },
  "cells": [
    {
      "cell_type": "markdown",
      "metadata": {
        "id": "view-in-github",
        "colab_type": "text"
      },
      "source": [
        "<a href=\"https://colab.research.google.com/github/rafaelalves06/Programming-Logic/blob/main/Atividade04.ipynb\" target=\"_parent\"><img src=\"https://colab.research.google.com/assets/colab-badge.svg\" alt=\"Open In Colab\"/></a>"
      ]
    },
    {
      "cell_type": "code",
      "source": [
        "# EXERCÍCIO 1\n",
        "\n",
        "numero1 = float(input(\"Digite o primeiro número:\"))\n",
        "numero2 = float(input(\"Digite o segundo número:\"))\n",
        "\n",
        "if numero1 > numero2:\n",
        "    print(numero1, \"é maior que\", numero2)\n",
        "elif numero1 == numero2:\n",
        "    print(numero1, \"é igual a\", numero2)\n",
        "else:\n",
        "    print(numero2, \"é maior que\", numero1)\n"
      ],
      "metadata": {
        "id": "Ucjnwf9EdQv_"
      },
      "execution_count": null,
      "outputs": []
    },
    {
      "cell_type": "code",
      "source": [
        "#EXERCÍCIO 2\n",
        "\n",
        "valor = float(input(\"Insira um número: \"))\n",
        "if valor < 0:\n",
        "    print(\"O seu valor é negativo.\")\n",
        "elif valor == 0:\n",
        "    print(\"O seu valor é igual a 0.\")\n",
        "else:\n",
        "    print(\"O seu valor é positivo.\")"
      ],
      "metadata": {
        "id": "S5cNgQJqdStg"
      },
      "execution_count": null,
      "outputs": []
    },
    {
      "cell_type": "code",
      "source": [
        "# EXERCÍCIO 3\n",
        "\n",
        "sexo = str(input(\"Insira o seu sexo (F ou M): \"))\n",
        "if sexo == \"F\" or sexo == \"f\":\n",
        "    print(\"Você é do sexo feminino.\")\n",
        "elif sexo == \"M\" or sexo == \"m\":\n",
        "    print(\"Você é do sexo masculino.\")\n",
        "else:\n",
        "    print(\"O sexo informado é inválido.\")\n"
      ],
      "metadata": {
        "id": "KS9vlbSWdVil"
      },
      "execution_count": null,
      "outputs": []
    },
    {
      "cell_type": "markdown",
      "source": [
        "Você é responsável por criar um verificador de acesso para um evento. Os critérios de acesso são os seguintes:\n",
        "\n",
        "A pessoa deve ter pelo menos 18 anos de idade para entrar.\n",
        "Caso a pessoa tenha entre 16 e 17 anos, ela pode entrar se estiver acompanhada por um adulto que tenha pelo menos 18 anos.\n",
        "Pessoas com menos de 16 anos não podem entrar."
      ],
      "metadata": {
        "id": "E2_WzrQlUDgN"
      }
    },
    {
      "cell_type": "code",
      "source": [
        "idade = int(input(\"Qual é a sua idade? \"))\n",
        "if idade >= 18:\n",
        "  print(\"Acesso concedido.\")\n",
        "elif idade >= 16 and idade <= 18:\n",
        "  acompanhado = str(input(\"Você está acompanhado de um adulto? Responda com S ou N. \"))\n",
        "elif acompanhado == \"S\" or acompanhado == \"s\":\n",
        "  idade_adulto = int(input(\"Qual é a idade do adulto?\"))\n",
        "elif idade_adulto >= 18:\n",
        "  print(\"Acesso concedido.\")\n",
        "elif idade <16:\n",
        "  print(\"Acesso negado.\")\n",
        "else:\n",
        "  print(\"Acesso negado.\")\n"
      ],
      "metadata": {
        "id": "xd1-BkTXdW39",
        "colab": {
          "base_uri": "https://localhost:8080/"
        },
        "outputId": "35a0ddf1-05de-4a15-b53c-753393e18f1e"
      },
      "execution_count": null,
      "outputs": [
        {
          "name": "stdout",
          "output_type": "stream",
          "text": [
            "Qual é a sua idade? 16\n",
            "Você está acompanhado de um adulto? Responda com S ou N. s\n"
          ]
        }
      ]
    }
  ]
}