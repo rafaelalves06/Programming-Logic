{
  "nbformat": 4,
  "nbformat_minor": 0,
  "metadata": {
    "colab": {
      "provenance": [],
      "authorship_tag": "ABX9TyMWgc24vH7qVJqVip1d16wI",
      "include_colab_link": true
    },
    "kernelspec": {
      "name": "python3",
      "display_name": "Python 3"
    },
    "language_info": {
      "name": "python"
    }
  },
  "cells": [
    {
      "cell_type": "markdown",
      "metadata": {
        "id": "view-in-github",
        "colab_type": "text"
      },
      "source": [
        "<a href=\"https://colab.research.google.com/github/rafaelalves06/Programming-Logic/blob/main/Atividade04.ipynb\" target=\"_parent\"><img src=\"https://colab.research.google.com/assets/colab-badge.svg\" alt=\"Open In Colab\"/></a>"
      ]
    },
    {
      "cell_type": "markdown",
      "source": [
        "Questão 01- Peça ao usuário para inserir três notas e calcule a média aritmética. Em seguida, exiba a média na tela.\n",
        "\n"
      ],
      "metadata": {
        "id": "5zElu7ule0c3"
      }
    },
    {
      "cell_type": "code",
      "source": [
        "n1 = float(input(\"Insira aqui a primeira nota: \"))\n",
        "n2 = float(input(\"Insira aqui a segunda nota: \"))\n",
        "n3 = float(input(\"Insira aqui a terceira nota: \"))\n",
        "\n",
        "media_aritmetica = (n1 + n2 + n3) / 3\n",
        "\n",
        "print(\"A sua média aritmética é igual a\", \"%.1f\" % media_aritmetica)\n"
      ],
      "metadata": {
        "colab": {
          "base_uri": "https://localhost:8080/"
        },
        "id": "7H-OKhv1e6BX",
        "outputId": "bb1b5a34-4308-45c2-af32-4a69d8e983d9"
      },
      "execution_count": null,
      "outputs": [
        {
          "output_type": "stream",
          "name": "stdout",
          "text": [
            "Insira aqui a primeira nota: 5\n",
            "Insira aqui a segunda nota: 8\n",
            "Insira aqui a terceira nota: 9\n",
            "A sua média aritmética é igual a 7.3\n"
          ]
        }
      ]
    },
    {
      "cell_type": "markdown",
      "source": [
        "\n",
        "Questão 02 - Crie um programa que converta uma quantia em dólar para outra moeda, como euros, e exiba o resultado.\n",
        "\n"
      ],
      "metadata": {
        "id": "mzHA8hhjfAcx"
      }
    },
    {
      "cell_type": "code",
      "source": [
        "valor_dolar = float(input(\"Insira o valor em U$D: \"))\n",
        "cotacao = 5\n",
        "valor_real = cotacao * valor_dolar\n",
        "print( valor_dolar, \"dólares\", \"equivalem a\", valor_real, \"reais.\")"
      ],
      "metadata": {
        "id": "tRuNgBXUfJxJ",
        "colab": {
          "base_uri": "https://localhost:8080/"
        },
        "outputId": "3d4c17f4-cbd0-4e8f-d7ae-9c544f5a4f77"
      },
      "execution_count": null,
      "outputs": [
        {
          "output_type": "stream",
          "name": "stdout",
          "text": [
            "Insira o valor em U$D: 3\n",
            "3.0 dólares equivalem a 15.0 reais.\n"
          ]
        }
      ]
    },
    {
      "cell_type": "markdown",
      "source": [
        "Questão 03 - Crie um programa que calcule a gorjeta com base no valor da conta e na porcentagem de gorjeta desejada pelo usuário. Em seguida, exiba o valor total a ser pago.\n",
        "\n"
      ],
      "metadata": {
        "id": "-n-J6e4OfToW"
      }
    },
    {
      "cell_type": "code",
      "source": [
        "valor_conta = float(input(\"Insira aqui o valor total a ser pago da conta: \"))\n",
        "porcentagem_gorjeta = float(input(\"Insira o valor da gorjeta desejada em porcentagem: \"))\n",
        "valor_total = valor_conta + ((porcentagem_gorjeta/100) * valor_conta)\n",
        "print(\"O valor total a ser pago é igual a\", valor_total)"
      ],
      "metadata": {
        "id": "Le1tV8JUfZsf"
      },
      "execution_count": null,
      "outputs": []
    },
    {
      "cell_type": "markdown",
      "source": [
        "Questão 04 - Um carro percorreu uma certa distância em um período de tempo. Você precisa criar um programa Python que calcule a velocidade média desse carro. O programa deve pedir ao usuário que insira a distância percorrida em quilômetros e o tempo levado em horas. Em seguida, ele deve calcular a velocidade média em quilômetros por hora e exibir o resultado.\n",
        "\n",
        "Aqui estão os passos para a questão:\n",
        "\n",
        "Solicitar ao usuário que insira a distância percorrida em quilômetros.\n",
        "\n",
        "Solicitar ao usuário que insira o tempo levado em horas.\n",
        "\n",
        "Calcular a velocidade média usando a fórmula:\n",
        "\n",
        "Velocidade Média = Distância / Tempo\n",
        "\n",
        "Exibir a velocidade média calculada no formato \"A velocidade média do carro foi de X km/h\", onde X é o resultado calculado."
      ],
      "metadata": {
        "id": "TO22T4Lsfi5H"
      }
    },
    {
      "cell_type": "code",
      "source": [
        "distancia = float(input(\"Insira a distância percorrida em quilômetros: \"))\n",
        "tempo = float(input(\"Insira aqui o tempo levado durante o deslocamento, em horas: \"))\n",
        "velocidade_media =  distancia / tempo\n",
        "print(\"A velocidade média do carro foi igual a\", velocidade_media,\"km/h\")"
      ],
      "metadata": {
        "id": "_ys22993fkqf"
      },
      "execution_count": null,
      "outputs": []
    },
    {
      "cell_type": "markdown",
      "source": [
        "Questão 05 - Você precisa criar um programa Python que calcule a área de um triângulo com base nas medidas de sua base e altura. O programa deve pedir ao usuário que insira a base e a altura do triângulo e, em seguida, calcular a área e exibir o resultado.\n",
        "\n",
        "Aqui estão os detalhes:\n",
        "\n",
        "Solicitar ao usuário que insira a medida da base do triângulo (em metros).\n",
        "\n",
        "Solicitar ao usuário que insira a medida da altura do triângulo (em metros).\n",
        "\n",
        "Calcular a área do triângulo usando a fórmula:\n",
        "\n",
        "Área = (Base * Altura) / 2\n",
        "\n",
        "Exibir a área calculada no formato \"A área do triângulo é X metros quadrados\", onde X é o resultado calculado."
      ],
      "metadata": {
        "id": "OHDmeiEvf0Wq"
      }
    },
    {
      "cell_type": "code",
      "source": [
        "base_triangulo = float(input(\"Insira a medida da base do triângulo, em metros: \"))\n",
        "h_triangulo = float(input(\"Insira aqui a altura do triângulo, em metros: \"))\n",
        "area_triangulo = (base_triangulo * h_triangulo) / 2\n",
        "print(\"A área do triângulo é igual a\", area_triangulo, \"metros quadrados.\")"
      ],
      "metadata": {
        "id": "My0ONy7Yf1Uf"
      },
      "execution_count": null,
      "outputs": []
    },
    {
      "cell_type": "markdown",
      "source": [
        "Questão 06 - Você é um consultor financeiro e está ajudando um cliente a calcular os juros simples para um investimento. O cliente possui um portfólio de 03 investimentos em que cada investimento tem uma taxa de juros diferente e um período de investimento diferente. Você precisa calcular o montante total após o fim do período de investimento para cada investimento e, em seguida, somar todos os montantes para determinar o valor total.\n",
        "\n",
        "Aqui estão os detalhes:\n",
        "\n",
        "O cliente possui três investimentos:\n",
        "\n",
        "Investimento 1: Principal de R$ 10.000, taxa de juros de 5% ao ano e período de investimento de 3 anos.\n",
        "\n",
        "Investimento 2: Principal de R$ 15.000, taxa de juros de 7.5% ao ano e período de investimento de 2 anos.\n",
        "\n",
        "Investimento 3: Principal de R$ 20.000, taxa de juros de 4% ao ano e período de investimento de 5 anos.\n",
        "\n",
        "Crie um programa Python que calcule o montante total após o período de investimento para cada investimento usando a fórmula de juros simples:\n",
        "\n",
        "Montante = Principal + (Principal * Taxa de Juros * Tempo)\n",
        "\n",
        "Em seguida, some todos os montantes para determinar o valor total do portfólio do cliente."
      ],
      "metadata": {
        "id": "TU_LCrAsf6f_"
      }
    },
    {
      "cell_type": "code",
      "source": [
        "investimento_principal_1 = 10000\n",
        "investimento_principal_2 = 15000\n",
        "investimento_principal_3 = 20000\n",
        "taxa_juros_1 = 0.05\n",
        "taxa_juros_2 = 0.075\n",
        "taxa_juros_3 = 0.04\n",
        "periodo_investimento_1 = 3\n",
        "periodo_investimento_2 = 2\n",
        "periodo_investimento_3 = 5\n",
        "\n",
        "montante_total_1 = investimento_principal_1 + (investimento_principal_1 * taxa_juros_1 * periodo_investimento_1)\n",
        "montante_total_2 = investimento_principal_2 + (investimento_principal_2 * taxa_juros_2 * periodo_investimento_2)\n",
        "montante_total_3 = investimento_principal_3 + (investimento_principal_3 * taxa_juros_3 * periodo_investimento_3)\n",
        "\n",
        "valor_portfolio = montante_total_1 + montante_total_2 + montante_total_3\n",
        "print(\"O valor total do seu portfólio é igual a R$\" \"%.2f\" % valor_portfolio)\n"
      ],
      "metadata": {
        "id": "Fsnum2L5f95X",
        "colab": {
          "base_uri": "https://localhost:8080/"
        },
        "outputId": "dac1a63d-5cbc-4696-d04b-e4b606187d3f"
      },
      "execution_count": null,
      "outputs": [
        {
          "output_type": "stream",
          "name": "stdout",
          "text": [
            "O valor total do seu portfólio é igual a R$52750.00\n"
          ]
        }
      ]
    },
    {
      "cell_type": "markdown",
      "source": [
        "Questão 07 - Faça um Programa que pergunte quanto você ganha por hora e o número de horas trabalhadas no mês.\n",
        "\n",
        "Calcule e mostre o total do seu salário no referido mês, sabendo-se que são descontados 11% para o Imposto de Renda, 8% para o INSS e 5% para o sindicato, faça um programa que nos dê: salário bruto. quanto pagou ao INSS. quanto pagou ao sindicato. o salário líquido. calcule os descontos e o salário líquido, conforme a tabela abaixo:\n",
        "\n",
        "    Salário Bruto : R$\n",
        "\n",
        "    IR (9%) : R$\n",
        "\n",
        "    INSS (8%) : R$\n",
        "\n",
        "    Sindicato ( 5%) : R$\n",
        "\n",
        "= Salário Liquido : R$"
      ],
      "metadata": {
        "id": "5pXggLChgN5x"
      }
    },
    {
      "cell_type": "code",
      "source": [
        "salario_hora = float(input(\"Quanto você ganha por hora? \"))\n",
        "horas_trabalhadas =  float(input(\"Quantas horas você trabalhou nesse mês? \"))\n",
        "salario_bruto = salario_hora * horas_trabalhadas\n",
        "imposto_renda = 0.11\n",
        "contribuicao_inss = 0.08\n",
        "contribuicao_sindicato = 0.05\n",
        "desconto_imposto = salario_bruto * imposto_renda\n",
        "desconto_inss = salario_bruto * contribuicao_inss\n",
        "desconto_sindicato =  salario_bruto * contribuicao_sindicato\n",
        "salario_liquido = salario_bruto - (desconto_imposto + desconto_inss + desconto_sindicato)\n",
        "descontos_totais = desconto_sindicato + desconto_imposto + desconto_inss\n",
        "print(\"Salário Bruto: R$\", \"%.2f\" % salario_bruto)\n",
        "print(\"IR: R$\", \"%.2f\" % desconto_imposto)\n",
        "print(\"INSS: R$\", \"%.2f\" % desconto_inss)\n",
        "print(\"Sindicato: R$\", \"%.2f\" % desconto_sindicato)\n",
        "print(\"Salário Liquido: R$\", \"%.2f\" % salario_liquido)\n",
        "print(\"Descontos totais: R$\", \"%.2f\" % descontos_totais)\n"
      ],
      "metadata": {
        "id": "wVtmFl9Ygb3g",
        "colab": {
          "base_uri": "https://localhost:8080/"
        },
        "outputId": "cb4aa6a5-ca98-4319-8d7b-10be9ac90a7e"
      },
      "execution_count": null,
      "outputs": [
        {
          "output_type": "stream",
          "name": "stdout",
          "text": [
            "Quanto você ganha por hora? 35\n",
            "Quantas horas você trabalhou nesse mês? 299\n",
            "Salário Bruto: R$ 10465.00\n",
            "IR: R$ 1151.15\n",
            "INSS: R$ 837.20\n",
            "Sindicato: R$ 523.25\n",
            "Salário Liquido: R$ 7953.40\n",
            "Descontos totais: R$ 2511.60\n"
          ]
        }
      ]
    }
  ]
}