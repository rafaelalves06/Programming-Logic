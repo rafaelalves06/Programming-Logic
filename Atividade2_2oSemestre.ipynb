{
  "nbformat": 4,
  "nbformat_minor": 0,
  "metadata": {
    "colab": {
      "provenance": [],
      "authorship_tag": "ABX9TyOKV1J0rOAPwcYb7Z4QJOV2",
      "include_colab_link": true
    },
    "kernelspec": {
      "name": "python3",
      "display_name": "Python 3"
    },
    "language_info": {
      "name": "python"
    }
  },
  "cells": [
    {
      "cell_type": "markdown",
      "metadata": {
        "id": "view-in-github",
        "colab_type": "text"
      },
      "source": [
        "<a href=\"https://colab.research.google.com/github/rafaelalves06/Programming-Logic/blob/main/Atividade2_2oSemestre.ipynb\" target=\"_parent\"><img src=\"https://colab.research.google.com/assets/colab-badge.svg\" alt=\"Open In Colab\"/></a>"
      ]
    },
    {
      "cell_type": "markdown",
      "source": [
        "\n",
        "\n",
        "Atividade 02 Estudo de Caso: Pesquisa de Preferência de Dias da Semana\n",
        "\n",
        "Contexto:\n",
        "\n",
        "A equipe de marketing de uma empresa de entretenimento está realizando uma pesquisa para identificar o dia da semana mais popular entre os clientes para a realização de eventos especiais. A empresa deseja saber se os clientes preferem eventos na sexta-feira, no sábado ou no domingo, para ajustar sua programação de acordo com a preferência da maioria.\n",
        "\n",
        "Objetivo:\n",
        "\n",
        "Desenvolver um programa em Python que permita aos clientes expressar sua preferência entre três dias da semana para a realização de eventos: sexta-feira, sábado e domingo. O programa deve:\n",
        "\n",
        "Ler as respostas dos clientes até que seja informado o valor 0, indicando o fim da pesquisa. Aceitar apenas valores válidos (1 para sexta-feira, 2 para sábado e 3 para domingo). Contabilizar os votos para cada dia da semana. Exibir o resultado final, mostrando o número de votos para cada dia.\n",
        "\n",
        "Funcionamento do Código:\n",
        "\n",
        "Inicialização: Define uma lista dias com os dias da semana possíveis e uma lista votos para contar o número de votos para cada dia.\n",
        "\n",
        "Entrada de Dados: Utiliza um loop while para permitir que os clientes insiram suas preferências. O loop continua até que o usuário insira 0.\n",
        "\n",
        "Contabilização de Votos: O código verifica a resposta do usuário e incrementa o contador correspondente no array votos. Se a resposta for inválida, uma mensagem de erro é exibida.\n",
        "\n",
        "Exibição dos Resultados: Após a coleta dos votos, o código imprime o número total de votos para cada dia.\n"
      ],
      "metadata": {
        "id": "1R1_TrEr0KDF"
      }
    },
    {
      "cell_type": "code",
      "execution_count": 1,
      "metadata": {
        "id": "yoJxObSjoNKS",
        "colab": {
          "base_uri": "https://localhost:8080/"
        },
        "outputId": "dab8e6b4-7381-433d-82d5-eab6a457552c"
      },
      "outputs": [
        {
          "output_type": "stream",
          "name": "stdout",
          "text": [
            "Escolha o seu dia da semana preferido:\n",
            "Digite 1 para escolher segunda-feira, 2 para escolher sábado, 3 para escolher domingo ou aperte 0 para encerrar. 1\n",
            "Você escolheu segunda-feira!\n",
            "\n",
            "Escolha o seu dia da semana preferido:\n",
            "Digite 1 para escolher segunda-feira, 2 para escolher sábado, 3 para escolher domingo ou aperte 0 para encerrar. 2\n",
            "Você escolheu sábado!\n",
            "\n",
            "Escolha o seu dia da semana preferido:\n",
            "Digite 1 para escolher segunda-feira, 2 para escolher sábado, 3 para escolher domingo ou aperte 0 para encerrar. 3\n",
            "Você escolheu domingo!\n",
            "\n",
            "Escolha o seu dia da semana preferido:\n",
            "Digite 1 para escolher segunda-feira, 2 para escolher sábado, 3 para escolher domingo ou aperte 0 para encerrar. 0\n",
            "Segunda-Feira: 1 voto(s)\n",
            "Sábado: 1 voto(s)\n",
            "Domingo: 1 voto(s)\n"
          ]
        }
      ],
      "source": [
        "dias = [\"segunda-feira\", \"sábado\", \"domingo\"]\n",
        "votos = [0, 0, 0]\n",
        "\n",
        "while True:\n",
        "    voto = int(input(f\"Escolha o seu dia da semana preferido:\\nDigite 1 para escolher {dias[0]}, 2 para escolher {dias[1]}, 3 para escolher {dias[2]} ou aperte 0 para encerrar. \"))\n",
        "    if voto == 1:\n",
        "        print(f\"Você escolheu {dias[0]}!\\n\")\n",
        "        votos[0] += 1\n",
        "    elif voto == 2:\n",
        "        print(f\"Você escolheu {dias[1]}!\\n\")\n",
        "        votos[1] += 1\n",
        "    elif voto == 3:\n",
        "        print(f\"Você escolheu {dias[2]}!\\n\")\n",
        "        votos[2] += 1\n",
        "    elif voto == 0:\n",
        "        break\n",
        "    else:\n",
        "        print(\"Escolha um dia válido.\")\n",
        "for i in range(3):\n",
        "    print(f\"{dias[i].title()}: {votos[i]} voto(s)\")\n"
      ]
    }
  ]
}