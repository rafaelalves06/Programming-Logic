{
  "nbformat": 4,
  "nbformat_minor": 0,
  "metadata": {
    "colab": {
      "provenance": [],
      "include_colab_link": true
    },
    "kernelspec": {
      "name": "python3",
      "display_name": "Python 3"
    },
    "language_info": {
      "name": "python"
    }
  },
  "cells": [
    {
      "cell_type": "markdown",
      "metadata": {
        "id": "view-in-github",
        "colab_type": "text"
      },
      "source": [
        "<a href=\"https://colab.research.google.com/github/rafaelalves06/Programming-Logic/blob/main/C%C3%B3pia_de_Atividade_05.ipynb\" target=\"_parent\"><img src=\"https://colab.research.google.com/assets/colab-badge.svg\" alt=\"Open In Colab\"/></a>"
      ]
    },
    {
      "cell_type": "markdown",
      "source": [
        "# **QUESTÃO 01:**\n",
        "\n",
        "Você foi contratado para criar um programa de gerenciamento de estacionamento para um shopping center. O estacionamento tem três tipos de vagas: padrão, VIP e para deficientes. Cada tipo de vaga possui uma taxa de estacionamento diferente. O programa deve calcular o valor a ser pago com base na categoria da vaga e o tempo de permanência do veículo.\n",
        "\n",
        "**Instruções:**\n",
        "\n",
        "Crie um programa Python que solicita ao usuário a categoria da vaga (padrao, vip, deficiente) e o tempo de permanência em horas. Com base nessas informações, use estruturas if, elif e else para calcular e exibir o valor a ser pago de acordo com as taxas a seguir:\n",
        "\n",
        "Vagas padrão: R$ 5,00 por hora\n",
        "\n",
        "Vagas VIP: R$ 1,00 por hora.\n",
        "\n",
        "Vagas para deficientes: Grátis."
      ],
      "metadata": {
        "id": "eq3NPwa_h5tG"
      }
    },
    {
      "cell_type": "code",
      "execution_count": null,
      "metadata": {
        "id": "8vkm_bE0fFJT",
        "outputId": "50f33e9d-60c7-47f1-ecbf-6786906eed59",
        "colab": {
          "base_uri": "https://localhost:8080/"
        }
      },
      "outputs": [
        {
          "output_type": "stream",
          "name": "stdout",
          "text": [
            "Qual é o tipo de vaga? Responda com \"Padrão, VIP, ou PcD\". Padrão\n",
            "Informe o tempo de permanência no estacionamento, em horas. 50\n",
            "O valor total devido é igual a R$ 250\n"
          ]
        }
      ],
      "source": [
        "tipo_vaga = str(input('Qual é o tipo de vaga? Responda com \"Padrão, VIP, ou PcD\". '))\n",
        "horas = int(input(\"Informe o tempo de permanência no estacionamento, em horas. \"))\n",
        "if tipo_vaga == \"Padrão\" or tipo_vaga == \"padrão\" or tipo_vaga == \"Padrao\" or tipo_vaga == \"padrao\":\n",
        "  print(\"O valor total devido é igual a R$\", horas * 5)\n",
        "elif tipo_vaga == \"VIP\" or tipo_vaga == \"vip\":\n",
        "  print(\"O valor total devido é igual a R$\", horas * 1)\n",
        "elif tipo_vaga == \"PCD\" or tipo_vaga == \"pcd\" or tipo_vaga == \"PcD\":\n",
        "  print(\"O estacionamento para Pessoas com Deficiência(s) é gratuito.\")"
      ]
    },
    {
      "cell_type": "markdown",
      "source": [
        "# **QUESTÃO 02**:\n",
        "Imagine que você é um professor universitário encarregado de desenvolver um sistema de controle de acesso para a biblioteca da sua universidade. Este sistema precisa lidar com diferentes categorias de pessoas, incluindo alunos de graduação, pós-graduação, professores e visitantes, cada um com critérios específicos de acesso. Para criar esse sistema, você utiliza a linguagem de programação Python. Os critérios são os seguintes: alunos de graduação têm acesso em todos os dias exceto segunda; alunos de pós-graduação podem acessar em todos os dias, exceto aos sábados e domingos; professores têm acesso em todos os dias; e visitantes não têm acesso. O programa solicita a categoria da pessoa e o dia da semana em que desejam acessar a biblioteca. Com base nas respostas, você pode usar estruturas condicionais if, elif e else, bem como operadores lógicos and e or, para determinar se a pessoa pode ou não entrar na biblioteca e exibe uma mensagem apropriada. Isso garante um controle eficaz de acesso à biblioteca, considerando os diferentes perfis de usuários e dias da semana."
      ],
      "metadata": {
        "id": "tiyp4ynrfJlF"
      }
    },
    {
      "cell_type": "code",
      "source": [
        "categoria = str(input(\"Qual é a sua categoria de acesso? Responda com: Graduação, Pós-graduação, Professor ou visitante. \"))\n",
        "if categoria == \"Graduação\" or categoria == \"graduação\":\n",
        "  dia_semana = str(input(\"Em qual dia da semana você irá acessar a biblioteca? \"))\n",
        "  if dia_semana == \"Segunda\" or dia_semana == \"segunda\" or dia_semana == \"Segunda-feira\" or dia_semana == \"segunda-feira\":\n",
        "    print(\"Você não pode acessar a biblioteca neste dia.\")\n",
        "  else:\n",
        "    print(\"Você pode acessar a biblioteca neste dia.\")\n",
        "elif categoria == \"Pós-graduação\" or categoria == \"Pos-graduacao\" or categoria == \"pós-graduação\" or categoria == \"pos-graduacao\":\n",
        "  dia_semana = str(input(\"Em qual dia da semana você irá acessar a biblioteca? \"))\n",
        "  if dia_semana == \"Sábado\" or dia_semana == \"Sabado\" or dia_semana == \"sábado\" or dia_semana == \"sabado\" or dia_semana == \"Domingo\" or dia_semana == \"domingo\":\n",
        "    print(\"Você não pode acessar a biblioteca neste dia.\")\n",
        "  else:\n",
        "    print(\"Você pode acessar a biblioteca neste dia.\")\n",
        "elif categoria == \"Professor\" or categoria == \"professor\":\n",
        "  print(\"Você pode acessar a biblioteca.\")\n",
        "elif categoria == \"Visitante\" or categoria == \"visitante\":\n",
        "  print(\"Você não pode acessar a biblioteca.\")\n",
        "\n"
      ],
      "metadata": {
        "id": "3TuGlkbAh7at",
        "outputId": "5caeaf38-f56d-459e-e74f-e4be75f0653a",
        "colab": {
          "base_uri": "https://localhost:8080/"
        }
      },
      "execution_count": null,
      "outputs": [
        {
          "output_type": "stream",
          "name": "stdout",
          "text": [
            "Qual é a sua categoria de acesso? Responda com: Graduação, Pós-graduação, Professor ou visitante. Pós-graduação\n",
            "Em qual dia da semana você irá acessar a biblioteca? ornitorrinco\n",
            "Você pode acessar a biblioteca neste dia.\n"
          ]
        }
      ]
    },
    {
      "cell_type": "markdown",
      "source": [
        "# **QUESTÃO 03:**\n",
        "Faça um programa que faça 5 perguntas para uma pessoa sobre um crime. As perguntas são:\n",
        "\n",
        "\"Telefonou para a vítima?\"\n",
        "\n",
        "\"Esteve no local do crime?\"\n",
        "\n",
        "\"Mora perto da vítima?\"\n",
        "\n",
        "\"Devia para a vítima?\"\n",
        "\n",
        "\"Já trabalhou com a vítima?\"\n",
        "\n",
        "\n",
        "O programa deve no final emitir uma classificação sobre a participação da pessoa no crime. Se a pessoa responder positivamente a 2 questões ela deve ser classificada como \"Suspeita\", entre 3 e 4 como \"Cúmplice\" e 5 como \"Assassino\". Caso contrário, ele será classificado como \"Inocente\".\n",
        "\n"
      ],
      "metadata": {
        "id": "-dEskA5-j81_"
      }
    },
    {
      "cell_type": "code",
      "source": [
        "telefonema = int(input(\"Telefonou para a vítima? Responda com 0 para não e 1 para sim.\" ))\n",
        "local = int(input(\"Esteve no local do crime? Responda com 0 para não e 1 para sim.\"))\n",
        "moradia = int(input(\"Mora perto da vítima? Responda com 0 para não e 1 para sim.\"))\n",
        "devia = int(input(\"Devia para a vítima? Responda com 0 para não e 1 para sim.\"))\n",
        "trabalhou = int(input(\"Já trabalhou com a vítima? Responda com 0 para não e 1 para sim.\"))\n",
        "score_final = telefonema + local + moradia + devia + trabalhou\n",
        "if score_final <= 1:\n",
        "  print(\"Inocente.\")\n",
        "elif score_final == 2:\n",
        "  print(\"Suspeita.\")\n",
        "elif score_final == 3 or score_final == 4:\n",
        "  print(\"Cúmplice.\")\n",
        "elif score_final == 5:\n",
        "  print(\"Assassino.\")\n"
      ],
      "metadata": {
        "id": "MaoFUI1onnUY",
        "outputId": "5c81a9c7-255d-4889-d786-16c4bb661698",
        "colab": {
          "base_uri": "https://localhost:8080/"
        }
      },
      "execution_count": null,
      "outputs": [
        {
          "output_type": "stream",
          "name": "stdout",
          "text": [
            "Telefonou para a vítima? Responda com 0 para não e 1 para sim.1\n",
            "Esteve no local do crime? Responda com 0 para não e 1 para sim.1\n",
            "Mora perto da vítima? Responda com 0 para não e 1 para sim.1\n",
            "Devia para a vítima? Responda com 0 para não e 1 para sim.1\n",
            "Já trabalhou com a vítima? Responda com 0 para não e 1 para sim.1\n",
            "Assassino.\n"
          ]
        }
      ]
    },
    {
      "cell_type": "markdown",
      "source": [
        "# **QUESTÃO 04:**\n",
        "\n",
        "Um posto está vendendo combustíveis com a seguinte tabela de descontos:\n",
        "\n",
        "Álcool: até 20 litros, desconto de 3% por litro acima de 20 litros, desconto de 5% por litro\n",
        "\n",
        "Gasolina: até 20 litros, desconto de 4% por litro acima de 20 litros, desconto de 6% por litro\n",
        "\n",
        "Escreva um algoritmo que leia o número de litros vendidos, o tipo de combustível (codificado da seguinte forma: A-álcool, G-gasolina), calcule e imprima o valor a ser pago pelo cliente sabendo-se que o preço do litro da gasolina é 6,50 o preço do litro do álcool é R$ 4,90.\n"
      ],
      "metadata": {
        "id": "Iqlrx07PnnsQ"
      }
    },
    {
      "cell_type": "code",
      "source": [
        "litro_gasolina = 6.50\n",
        "litro_alcool = 4.90\n",
        "litros_vendidos = float(input(\"Qual foi a quantidade de litros vendidos? \"))\n",
        "tipo_combustivel = str(input(\"Qual foi o tipo de combustível vendido? Insira A para álcool e G para Gasolina. \"))\n",
        "if litros_vendidos <= 20 and tipo_combustivel == \"A\" or tipo_combustivel == \"a\" and litros_vendidos <= 20:\n",
        "  print(\"O valor a ser pago é igual a R$\", (litros_vendidos * litro_alcool) - (litros_vendidos * litro_alcool * 0.03))\n",
        "elif litros_vendidos > 20 and tipo_combustivel == \"A\" or tipo_combustivel == \"a\" and litros_vendidos > 20:\n",
        "  print(\"O valor a ser pago é igual a R$\", litros_vendidos * litro_alcool - litros_vendidos * litro_alcool * 0.05)\n",
        "if litros_vendidos <= 20 and tipo_combustivel == \"G\" or tipo_combustivel == \"g\" and litros_vendidos <=20 :\n",
        "  print(\"O valor a ser pago é igual a R$\", (litros_vendidos * litro_gasolina) - (litros_vendidos * litro_gasolina * 0.04))\n",
        "elif litros_vendidos > 20 and tipo_combustivel == \"G\" or tipo_combustivel == \"g\" and litros_vendidos > 20:\n",
        "  print(\"O valor a ser pago é igual a R$\", (litros_vendidos * litro_gasolina) - (litros_vendidos * litro_gasolina) * 0.06)"
      ],
      "metadata": {
        "id": "ORjCJYT7oSRi",
        "outputId": "d3dcad1a-4bb8-4730-b659-15c41b45fa1d",
        "colab": {
          "base_uri": "https://localhost:8080/"
        }
      },
      "execution_count": null,
      "outputs": [
        {
          "output_type": "stream",
          "name": "stdout",
          "text": [
            "Qual foi a quantidade de litros vendidos? 10\n",
            "Qual foi o tipo de combustível vendido? Insira A para álcool e G para Gasolina. a\n",
            "O valor a ser pago é igual a R$ 47.53\n"
          ]
        }
      ]
    }
  ]
}