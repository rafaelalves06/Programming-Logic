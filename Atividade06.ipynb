{
  "nbformat": 4,
  "nbformat_minor": 0,
  "metadata": {
    "colab": {
      "provenance": [],
      "authorship_tag": "ABX9TyM/V3RXaNOHC4l121jYRP0f",
      "include_colab_link": true
    },
    "kernelspec": {
      "name": "python3",
      "display_name": "Python 3"
    },
    "language_info": {
      "name": "python"
    }
  },
  "cells": [
    {
      "cell_type": "markdown",
      "metadata": {
        "id": "view-in-github",
        "colab_type": "text"
      },
      "source": [
        "<a href=\"https://colab.research.google.com/github/rafaelalves06/Programming-Logic/blob/main/Atividade06.ipynb\" target=\"_parent\"><img src=\"https://colab.research.google.com/assets/colab-badge.svg\" alt=\"Open In Colab\"/></a>"
      ]
    },
    {
      "cell_type": "markdown",
      "source": [
        "1. Faça um Programa que peça dois números e imprima o maior deles."
      ],
      "metadata": {
        "id": "tosQu1u6YaXZ"
      }
    },
    {
      "cell_type": "code",
      "source": [
        "num1 = float(input(\"Insira um número: \"))\n",
        "num2 = float(input(\"Insira outro número: \"))\n",
        "if num1 > num2:\n",
        "  print(\"O número\", num1, \"é maior que o número\", num2)\n",
        "else:\n",
        "  print(\"O número\", num2, \"é maior que o número\", num1)"
      ],
      "metadata": {
        "colab": {
          "base_uri": "https://localhost:8080/"
        },
        "id": "WH64JQeWYcMh",
        "outputId": "5ffdaeac-7909-4da6-8530-d03160e89902"
      },
      "execution_count": null,
      "outputs": [
        {
          "output_type": "stream",
          "name": "stdout",
          "text": [
            "Insira um número: 10\n",
            "Insira outro número: 1\n",
            "O número 10.0 é maior que o número 1.0\n"
          ]
        }
      ]
    },
    {
      "cell_type": "markdown",
      "source": [
        "2. Faça um Programa que leia três números e mostre o maior deles.\n"
      ],
      "metadata": {
        "id": "Sel2SM81YchI"
      }
    },
    {
      "cell_type": "code",
      "source": [
        "num1 = float(input(\"Insira um número: \"))\n",
        "num2 = float(input(\"Insira um segundo número: \"))\n",
        "num3 = float(input(\"Insira um terceiro número: \"))\n",
        "\n",
        "if num1 > num2 and num1 > num3:\n",
        "    maior = num1\n",
        "elif num2 > num1 and num2 > num3:\n",
        "    maior = num2\n",
        "else:\n",
        "    maior = num3\n",
        "print(maior, \"é o maior número entre os três.\")"
      ],
      "metadata": {
        "colab": {
          "base_uri": "https://localhost:8080/"
        },
        "id": "-V9zTzg7Zflz",
        "outputId": "f3df79e1-32d5-478f-f7f4-c1add1c0f090"
      },
      "execution_count": null,
      "outputs": [
        {
          "output_type": "stream",
          "name": "stdout",
          "text": [
            "Insira um número: 1\n",
            "Insira um segundo número: 2\n",
            "Insira um terceiro número: 3\n",
            "3.0 é o maior número entre os três.\n"
          ]
        }
      ]
    },
    {
      "cell_type": "markdown",
      "source": [
        "3. Faça um Programa que leia três números e mostre o maior e o menor deles.\n"
      ],
      "metadata": {
        "id": "I85_34VLYoof"
      }
    },
    {
      "cell_type": "code",
      "source": [
        "num1 = float(input(\"Insira um número: \"))\n",
        "num2 = float(input(\"Insira um número diferente do primeiro número: \"))\n",
        "num3 = float(input(\"Insira um número diferente do segundo número: \"))\n",
        "\n",
        "if num1 > num2 and num1 > num3:\n",
        "    maior = num1\n",
        "elif num2 > num1 and num2 > num3:\n",
        "    maior = num2\n",
        "else:\n",
        "    maior = num3\n",
        "\n",
        "if num1 < num2 and num1 < num3:\n",
        "    menor = num1\n",
        "elif num2 < num1 and num2 < num3:\n",
        "    menor = num2\n",
        "else:\n",
        "    menor = num3\n",
        "\n",
        "print(maior, \"é o maior número entre os três\")\n",
        "print(menor, \"é o menor número entre os três\")"
      ],
      "metadata": {
        "colab": {
          "base_uri": "https://localhost:8080/"
        },
        "id": "MuQN2PgMYpI6",
        "outputId": "b545ee4d-e50e-42af-f1ec-e0b42be64fe5"
      },
      "execution_count": null,
      "outputs": [
        {
          "output_type": "stream",
          "name": "stdout",
          "text": [
            "Insira um número: 1\n",
            "Insira um número diferente do primeiro número: 2\n",
            "Insira um número diferente do segundo número: 3\n",
            "3.0 é o maior número entre os três\n",
            "1.0 é o menor número entre os três\n"
          ]
        }
      ]
    },
    {
      "cell_type": "markdown",
      "source": [
        "4. Faça um Programa que verifique se uma letra digitada é vogal ou consoante.\n"
      ],
      "metadata": {
        "id": "_iL2kyu7YisP"
      }
    },
    {
      "cell_type": "code",
      "source": [
        "letra = str(input(\"Digite uma letra: \"))\n",
        "if letra == \"a\" or letra == \"e\" or letra == \"i\" or letra == \"o\" or letra == \"u\" or letra == \"A\" or letra == \"E\" or letra == \"I\" or letra == \"O\" or letra == \"U\":\n",
        "  print(\"A letra digitada é uma vogal.\")\n",
        "else:\n",
        "  print(\"A letra digitada é uma consoante.\")"
      ],
      "metadata": {
        "id": "srz50mPHYkpI"
      },
      "execution_count": null,
      "outputs": []
    },
    {
      "cell_type": "markdown",
      "source": [
        "5. Faça um Programa que peça um número correspondente a um determinado ano e em seguida informe se este ano é ou não bissexto.\n"
      ],
      "metadata": {
        "id": "cUY5p8vZYtH2"
      }
    },
    {
      "cell_type": "code",
      "source": [
        "#Como calcular os anos bissextos?\n",
        "\n",
        "#Para podermos entender melhor, vamos realizar o cálculo do ano bissexto para verificar quais dos anos descritos abaixo encaixam-se nessa categoria. Antes disso, precisamos saber quais são os critérios que o definem, ou seja:\n",
        "\n",
        "#Para ser bissexto, o ano deve ser:\n",
        "\n",
        "    # Divisível por 4. Sendo assim, a divisão é exata com o resto igual a zero;\n",
        "\n",
        "    # Não pode ser divisível por 100. Com isso, a divisão não é exata, ou seja, deixa resto diferente de zero;\n",
        "\n",
        "    # Pode ser que seja divisível por 400. Caso seja divisível por 400, a divisão deve ser exata, deixando o resto igual a zero.\n",
        "\n",
        "ano = int(input(\"Insira um número correspondente a um ano: \"))\n",
        "if ano % 4 == 0 and ano % 100 != 0 or ano % 400 == 0:\n",
        "  print(\"Este é um ano bissexto.\")\n",
        "else:\n",
        "  print(\"Esse não é um ano bissexto.\")"
      ],
      "metadata": {
        "colab": {
          "base_uri": "https://localhost:8080/"
        },
        "id": "tAkNkfAwYu2R",
        "outputId": "c613af56-befa-4a39-8e52-2497b2de83e1"
      },
      "execution_count": null,
      "outputs": [
        {
          "output_type": "stream",
          "name": "stdout",
          "text": [
            "Insira um número correspondente a um ano: 1900\n",
            "Este é um ano bissexto.\n"
          ]
        }
      ]
    },
    {
      "cell_type": "markdown",
      "source": [
        "6. Faça um Programa que leia um número inteiro menor que 1000 e imprima a quantidade de centenas, dezenas e unidades do mesmo."
      ],
      "metadata": {
        "id": "cSpK_cnIYw5x"
      }
    },
    {
      "cell_type": "code",
      "source": [
        "numero = int(input(\"Digite um número inteiro menor que 1000: \"))\n",
        "centenas = numero // 100\n",
        "dezenas = (numero % 100) // 10\n",
        "unidades = numero % 10\n",
        "print(\"Centenas:\", centenas, \"Dezenas:\", dezenas, \"Unidades:\", unidades)\n"
      ],
      "metadata": {
        "colab": {
          "base_uri": "https://localhost:8080/"
        },
        "id": "aJ85v44hY0OW",
        "outputId": "fb90d320-905f-4355-d784-abb33c762f4b"
      },
      "execution_count": null,
      "outputs": [
        {
          "output_type": "stream",
          "name": "stdout",
          "text": [
            "Digite um número inteiro menor que 1000: 999\n",
            "Centenas: 9 Dezenas: 9 Unidades: 9\n"
          ]
        }
      ]
    },
    {
      "cell_type": "markdown",
      "source": [
        "7. O IFS resolveu dar um aumento de salário aos seus colaboradores e lhe contrataram para desenvolver o programa que calculará os reajustes. Faça um programa que recebe o salário de um colaborador e o reajuste segundo o seguinte critério, baseado no salário atual: salários até RS 2.800,00 (incluindo) : aumento de 20%\n",
        "salários entre RS 2.800,00 e RS 7.000,00 : aumento de 15%\n",
        "salários entre RS 7000,00 e RS 15.000,00 : aumento de 10%\n",
        "salários de RS 1.5000,00 em diante : aumento de 5% Após o aumento ser realizado, informe na tela:\n",
        "o salário antes do reajuste;\n",
        "o percentual de aumento aplicado;\n",
        "o valor do aumento;\n",
        "o novo salário, após o aumento.\n",
        "\n"
      ],
      "metadata": {
        "id": "4ZJOKcztZAw-"
      }
    },
    {
      "cell_type": "code",
      "source": [
        "salario_atual = float(input(\"Insira aqui o seu salário atual: \"))\n",
        "if salario_atual <= 2800:\n",
        "  print(\"O seu salário antes do reajuste é igual a R$\", salario_atual); print(\"O percentual de aumento aplicado é igual a 20%.\"); print(\"O valor do aumento proveniente do reajuste é igual a: R$\", salario_atual * 0.2); print(\"O salário após o reajuste é igual a R$\", salario_atual + salario_atual * 0.2)\n",
        "elif 2800 < salario_atual <= 7000:\n",
        "  print(\"O seu salário antes do reajuste é igual a R$\", salario_atual); print(\"O percentual de aumento aplicado é igual a 15%.\"); print(\"O valor do aumento proveniente do reajuste é igual a: R$\", salario_atual * 0.15); print(\"O salário após o reajuste é igual a R$\", salario_atual + salario_atual * 0.15)\n",
        "elif 7000 < salario_atual <= 15000:\n",
        "  print(\"O seu salário antes do reajuste é igual a R$\", salario_atual); print(\"O percentual de aumento aplicado é igual a 10%.\"); print(\"O valor do aumento proveniente do reajuste é igual a: R$\", salario_atual * 0.1); print(\"O salário após o reajuste é igual a R$\", salario_atual + salario_atual * 0.1)\n",
        "elif salario_atual > 15000:\n",
        "  print(\"O seu salário antes do reajuste é igual a R$\", salario_atual); print(\"O percentual de aumento aplicado é igual a 5%.\"); print(\"O valor do aumento proveniente do reajuste é igual a: R$\", salario_atual * 0.05); print(\"O salário após o reajuste é igual a R$\", salario_atual + salario_atual * 0.05)\n"
      ],
      "metadata": {
        "colab": {
          "base_uri": "https://localhost:8080/"
        },
        "id": "u7WXXhxyZPRx",
        "outputId": "97bb8a9d-6b1e-4f61-bc3d-9c381daba0c1"
      },
      "execution_count": null,
      "outputs": [
        {
          "output_type": "stream",
          "name": "stdout",
          "text": [
            "Insira aqui o seu salário atual: 15280\n",
            "O seu salário antes do reajuste é igual a R$ 15280.0\n",
            "O percentual de aumento aplicado é igual a 5%.\n",
            "O valor do aumento proveniente do reajuste é igual a: R$ 764.0\n",
            "O salário após o reajuste é igual a R$ 16044.0\n"
          ]
        }
      ]
    },
    {
      "cell_type": "markdown",
      "source": [
        "8. Faça um programa para a leitura de duas notas parciais de um aluno. O programa deve calcular a média alcançada por aluno e apresentar:\n",
        "A mensagem \"Aprovado\", se a média alcançada for maior ou igual a sete;\n",
        "A mensagem \"Reprovado\", se a média for menor do que sete;\n",
        "A mensagem \"Aprovado com Perfeição\", se a média for igual a dez.\n",
        "\n"
      ],
      "metadata": {
        "id": "7rCqsEJnZVIy"
      }
    },
    {
      "cell_type": "code",
      "source": [
        "nota1 = float(input(\"Insira a primeira nota parcial: \"))\n",
        "nota2 = float(input(\"Insira a segunda nota parcial: \"))\n",
        "media = (nota1 + nota2) / 2\n",
        "if media == 10.0:\n",
        "  print(\"Aprovado com perfeição. A sua média foi igual a\", media)\n",
        "elif media >= 7:\n",
        "  print(\"Aprovado. A sua média foi igual a\", media)\n",
        "else:\n",
        "  print(\"Reprovado. A sua média foi igual a\", media)"
      ],
      "metadata": {
        "colab": {
          "base_uri": "https://localhost:8080/"
        },
        "id": "GmG7KIbcZYVO",
        "outputId": "c4535168-2281-4661-9516-c0ae018bd02b"
      },
      "execution_count": null,
      "outputs": [
        {
          "output_type": "stream",
          "name": "stdout",
          "text": [
            "Insira a primeira nota parcial: 6\n",
            "Insira a segunda nota parcial: 6\n",
            "Reprovado. A sua média foi igual a 6.0\n"
          ]
        }
      ]
    }
  ]
}