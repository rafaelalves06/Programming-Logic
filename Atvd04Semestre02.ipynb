{
  "nbformat": 4,
  "nbformat_minor": 0,
  "metadata": {
    "colab": {
      "provenance": [],
      "authorship_tag": "ABX9TyMCGvc3vYI8grnqwOoeiy/O",
      "include_colab_link": true
    },
    "kernelspec": {
      "name": "python3",
      "display_name": "Python 3"
    },
    "language_info": {
      "name": "python"
    }
  },
  "cells": [
    {
      "cell_type": "markdown",
      "metadata": {
        "id": "view-in-github",
        "colab_type": "text"
      },
      "source": [
        "<a href=\"https://colab.research.google.com/github/rafaelalves06/Programming-Logic/blob/main/Atvd04Semestre02.ipynb\" target=\"_parent\"><img src=\"https://colab.research.google.com/assets/colab-badge.svg\" alt=\"Open In Colab\"/></a>"
      ]
    },
    {
      "cell_type": "markdown",
      "source": [
        "Questão 01- Peça ao usuário para inserir três notas e calcule a média aritmética. Em seguida, exiba a média na tela.\n",
        "\n"
      ],
      "metadata": {
        "id": "eXGUpCUcgOKL"
      }
    },
    {
      "cell_type": "code",
      "execution_count": null,
      "metadata": {
        "colab": {
          "base_uri": "https://localhost:8080/",
          "height": 142
        },
        "id": "N75D24CfgJno",
        "outputId": "bffb0df4-951c-4f69-ccbf-c75222c54bb1"
      },
      "outputs": [
        {
          "name": "stdout",
          "output_type": "stream",
          "text": [
            "Quantas notas deseja calcular? 5\n",
            "Insira a 1ª nota: 1\n",
            "Insira a 2ª nota: 2\n",
            "Insira a 3ª nota: 3\n",
            "Insira a 4ª nota: 4\n",
            "Insira a 5ª nota: 5\n"
          ]
        },
        {
          "output_type": "execute_result",
          "data": {
            "text/plain": [
              "'A média da(s) 5 nota(s) é 3.00'"
            ],
            "application/vnd.google.colaboratory.intrinsic+json": {
              "type": "string"
            }
          },
          "metadata": {},
          "execution_count": 36
        }
      ],
      "source": [
        "def calcular_media(qtd_notas, notas):\n",
        "  soma = sum(notas)\n",
        "  media = soma / qtd_notas\n",
        "  return f'A média da(s) {qtd_notas} nota(s) é {media:.2f}'\n",
        "\n",
        "qtd_notas = int(input(\"Quantas notas deseja calcular? \"))\n",
        "lista = []\n",
        "\n",
        "for i in range(qtd_notas):\n",
        "  nota = float(input(f\"Insira a {i+1}ª nota: \"))\n",
        "  lista.append(nota)\n",
        "\n",
        "calcular_media(qtd_notas, lista)"
      ]
    },
    {
      "cell_type": "markdown",
      "source": [
        "\n",
        "Questão 02 - Crie um programa que converta uma quantia em dólar para outra moeda, como euros, e exiba o resultado."
      ],
      "metadata": {
        "id": "_0JwibETgPdZ"
      }
    },
    {
      "cell_type": "code",
      "source": [
        "def cambio_dolar(valor_dolar):\n",
        "  cotacao_real = 5.61\n",
        "  cotacao_dolar_cnd = 1.35\n",
        "  cotacao_peso_arg = 950.03\n",
        "  cotacao_euro = 0.9\n",
        "  return f\"US$ {valor_dolar} equivale(m) a: {valor_dolar * cotacao_real:.2f} reais; a {valor_dolar * cotacao_dolar_cnd:.2f} dólares canadenses; a {valor_dolar * cotacao_peso_arg:.2f} pesos argentinos; e a {valor_dolar * cotacao_euro:.2f} euros.\"\n",
        "dolar = float(input(\"Insira a quantia em dólares: \"))\n",
        "cambio_dolar(dolar)"
      ],
      "metadata": {
        "colab": {
          "base_uri": "https://localhost:8080/",
          "height": 53
        },
        "id": "khfG7O20gRvh",
        "outputId": "40536bd5-ad24-42c4-f0cf-e3f046d32778"
      },
      "execution_count": null,
      "outputs": [
        {
          "name": "stdout",
          "output_type": "stream",
          "text": [
            "Insira a quantia em dólares: 5\n"
          ]
        },
        {
          "output_type": "execute_result",
          "data": {
            "text/plain": [
              "'US$ 5.0 equivale(m) a: 28.05 reais; a 6.75 dólares canadenses; a 4750.15 pesos argentinos; e a 4.50 euros.'"
            ],
            "application/vnd.google.colaboratory.intrinsic+json": {
              "type": "string"
            }
          },
          "metadata": {},
          "execution_count": 27
        }
      ]
    },
    {
      "cell_type": "markdown",
      "source": [
        "Questão 03 - Crie um programa que calcule a gorjeta com base no valor da conta e na porcentagem de gorjeta desejada pelo usuário. Em seguida, exiba o valor total a ser pago."
      ],
      "metadata": {
        "id": "2aHKs54VgR_R"
      }
    },
    {
      "cell_type": "code",
      "source": [
        "def calcular_gorjeta(conta, gorjeta):\n",
        "  gorjeta /= 100\n",
        "  valor_final = conta + conta * gorjeta\n",
        "  return f\"Valor total devido: R$ {valor_final}\"\n",
        "\n",
        "conta = float(input(\"Qual foi o valor da conta? \"))\n",
        "gorjeta = float(input(\"Qual o valor da gorjeta, em %? \"))\n",
        "\n",
        "calcular_gorjeta(conta,gorjeta)\n"
      ],
      "metadata": {
        "colab": {
          "base_uri": "https://localhost:8080/",
          "height": 71
        },
        "id": "TsXwO2Q5gTc5",
        "outputId": "439232f8-3042-409a-ff19-6ec9837fefde"
      },
      "execution_count": null,
      "outputs": [
        {
          "name": "stdout",
          "output_type": "stream",
          "text": [
            "Qual foi o valor da conta? 10000000\n",
            "Qual o valor da gorjeta, em %? 30\n"
          ]
        },
        {
          "output_type": "execute_result",
          "data": {
            "text/plain": [
              "'Valor total devido: R$ 13000000.0'"
            ],
            "application/vnd.google.colaboratory.intrinsic+json": {
              "type": "string"
            }
          },
          "metadata": {},
          "execution_count": 37
        }
      ]
    }
  ]
}