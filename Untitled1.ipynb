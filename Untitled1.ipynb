{
  "nbformat": 4,
  "nbformat_minor": 0,
  "metadata": {
    "colab": {
      "provenance": [],
      "authorship_tag": "ABX9TyOL4C064E96tAM8boCrBB/N",
      "include_colab_link": true
    },
    "kernelspec": {
      "name": "python3",
      "display_name": "Python 3"
    },
    "language_info": {
      "name": "python"
    }
  },
  "cells": [
    {
      "cell_type": "markdown",
      "metadata": {
        "id": "view-in-github",
        "colab_type": "text"
      },
      "source": [
        "<a href=\"https://colab.research.google.com/github/rafaelalves06/Programming-Logic/blob/main/Untitled1.ipynb\" target=\"_parent\"><img src=\"https://colab.research.google.com/assets/colab-badge.svg\" alt=\"Open In Colab\"/></a>"
      ]
    },
    {
      "cell_type": "markdown",
      "source": [
        "Questão 01 - Em um jogo, um jogador inicia com 20 pontos. Para vencer, ele deve acumular mais de 50 pontos ou perder se cair abaixo de 0 pontos. Cada jogo bem-sucedido adiciona 5 pontos à sua pontuação total, enquanto cada jogo mal sucedido subtrai 3 pontos. O jogador deve indicar \"C\" para correto e \"E\" para errado a cada rodada. Ao final do jogo, o programa deve informar se o jogador ganhou ou perdeu, além de revelar quantas rodadas aconteceram no jogo."
      ],
      "metadata": {
        "id": "J6sj2INeMqHY"
      }
    },
    {
      "cell_type": "code",
      "source": [
        "pts_inicio = 20\n",
        "rodadas = 0\n",
        "while True:\n",
        "  escolha = str(input(\"Insira C para correto ou E para errado: \")).upper()\n",
        "\n",
        "  if escolha == \"C\":\n",
        "    pts_inicio += 5\n",
        "    rodadas += 1\n",
        "  elif escolha == \"E\":\n",
        "    pts_inicio -= 3\n",
        "    rodadas += 1\n",
        "  else:\n",
        "    print(\"Escolha uma opção válida.\")\n",
        "  if pts_inicio > 50:\n",
        "    print(f\"Você venceu em {rodadas} rodadas!\\n\")\n",
        "    break\n",
        "  elif pts_inicio <= 0:\n",
        "    print(f\"Você perdeu em {rodadas} rodadas.\\n\")\n",
        "    break"
      ],
      "metadata": {
        "id": "vKMdkXTLMqen"
      },
      "execution_count": null,
      "outputs": []
    },
    {
      "cell_type": "markdown",
      "source": [
        "Questão 02 - Uma empresa esportiva solicita seus serviços para realizar o monitoramento de uma competição de atletismo de 100 metros. O programa que você desenvolverá deverá ser capaz de:\n",
        "\n",
        "    Declarar o nome do atleta.\n",
        "    Registrar o tempo em segundos do atleta durante 5 corridas.\n",
        "    Fornecer informações sobre o desempenho dos atletas, incluindo:\n",
        "    O maior tempo registrado entre os corredores.\n",
        "    O menor tempo registrado entre os corredores.\n",
        "    A média do tempo de todas as corridas."
      ],
      "metadata": {
        "id": "NqE6f2sMMr6j"
      }
    },
    {
      "cell_type": "code",
      "source": [
        "nome_atleta = str(input(\"Insira o nome do atleta: \"))\n",
        "lista = []\n",
        "for i in range(5):\n",
        "  tempo_corridas = int(input(f\"Insira o tempo em segundos da {i+1}ª corrida: \"))\n",
        "  lista.append(tempo_corridas)\n",
        "maior_tempo = max(lista)\n",
        "menor_tempo = min(lista)\n",
        "media = sum(lista) / 5\n",
        "print(f\"O maior tempo registrado foi igual a {maior_tempo} segundos;\\nO menor tempo registrafo foi igual a {menor_tempo} segundos;\\nE a média dos tempos foi igual a {media:.2f} segundos.\")"
      ],
      "metadata": {
        "colab": {
          "base_uri": "https://localhost:8080/"
        },
        "id": "OikGSA4wMsvu",
        "outputId": "170e495c-3db1-4c26-c3f3-72d1acfeeea6"
      },
      "execution_count": null,
      "outputs": [
        {
          "output_type": "stream",
          "name": "stdout",
          "text": [
            "Insira o nome do atleta: oiopi\n",
            "Insira o tempo em segundos da 1ª corrida: 78\n",
            "Insira o tempo em segundos da 2ª corrida: 567\n",
            "Insira o tempo em segundos da 3ª corrida: 076\n",
            "Insira o tempo em segundos da 4ª corrida: 35\n",
            "Insira o tempo em segundos da 5ª corrida: 65\n",
            "O maior tempo registrado foi igual a 567 segundos;\n",
            "O menor tempo registrafo foi igual a 35 segundos;\n",
            "E a média dos tempos foi igual a 164.20 segundos.\n"
          ]
        }
      ]
    }
  ]
}