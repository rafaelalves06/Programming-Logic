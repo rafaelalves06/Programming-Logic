{
  "nbformat": 4,
  "nbformat_minor": 0,
  "metadata": {
    "colab": {
      "provenance": [],
      "authorship_tag": "ABX9TyNm/wJdB/qItETeMbFmnbDF",
      "include_colab_link": true
    },
    "kernelspec": {
      "name": "python3",
      "display_name": "Python 3"
    },
    "language_info": {
      "name": "python"
    }
  },
  "cells": [
    {
      "cell_type": "markdown",
      "metadata": {
        "id": "view-in-github",
        "colab_type": "text"
      },
      "source": [
        "<a href=\"https://colab.research.google.com/github/rafaelalves06/Programming-Logic/blob/main/Untitled3.ipynb\" target=\"_parent\"><img src=\"https://colab.research.google.com/assets/colab-badge.svg\" alt=\"Open In Colab\"/></a>"
      ]
    },
    {
      "cell_type": "markdown",
      "source": [
        "Questão 01: Desenvolver um programa em Python para ler 4 notas fornecidas pelo usuário, calcular a média dessas notas e exibir as notas inseridas juntamente com a média calculada.\n",
        "\n",
        "Exemplo de Saída:\n",
        "Notas inseridas:\n",
        "Nota 1: 7.5\n",
        "Nota 2: 8.0\n",
        "Nota 3: 6.5\n",
        "Nota 4: 9.0\n",
        "Média das notas: 7.75\n",
        "\n"
      ],
      "metadata": {
        "id": "Ebx9sHLDRMTp"
      }
    },
    {
      "cell_type": "code",
      "source": [
        "lista_notas = []\n",
        "for i in range(4):\n",
        "  nota = float(input(\"Insira aqui uma nota: \"))\n",
        "  lista_notas.append(nota)\n",
        "media = sum(lista_notas) / len(lista_notas)\n",
        "print(f\"Nota 1: {lista_notas[0]}\\nNota 2: {lista_notas[1]}\\nNota 3: {lista_notas[2]}\\nNota 4: {lista_notas[3]}\\nMédia das notas: {media:.2f}\")"
      ],
      "metadata": {
        "colab": {
          "base_uri": "https://localhost:8080/"
        },
        "id": "pUOFgNV-RPTo",
        "outputId": "1c2bc884-9ed0-44d7-bced-1e159868be41"
      },
      "execution_count": null,
      "outputs": [
        {
          "output_type": "stream",
          "name": "stdout",
          "text": [
            "Insira aqui uma nota: 7\n",
            "Insira aqui uma nota: 7\n",
            "Insira aqui uma nota: 6\n",
            "Insira aqui uma nota: 2\n",
            "Nota 1: 7.0\n",
            "Nota 2: 7.0\n",
            "Nota 3: 6.0\n",
            "Nota 4: 2.0\n",
            "Média das notas: 5.50\n"
          ]
        }
      ]
    },
    {
      "cell_type": "markdown",
      "source": [
        "Questão 02: Em uma competição de salto em distância cada atleta tem direito a cinco saltos. O resultado do atleta será determinado pela média dos cinco valores restantes. Você deve fazer um programa que receba o nome e as cinco distâncias alcançadas pelo atleta em seus saltos e depois informe o nome, os saltos e a média dos saltos. Ao final o programa irá perguntar se deseja registrar o salto de outro atleta.  \n",
        "\n",
        "Exemplo de Saída:\n",
        "Atleta: Rodrigo Curvêllo\n",
        "—---------------------------------------------\n",
        "Primeiro Salto: 6.5 m\n",
        "Segundo Salto: 6.1 m\n",
        "Terceiro Salto: 6.2 m\n",
        "Quarto Salto: 5.4 m\n",
        "Quinto Salto: 5.3 m\n",
        "—---------------------------------------\n",
        "Resultado final:\n",
        "Atleta: Rodrigo Curvêllo\n",
        "Saltos: 6.5 - 6.1 - 6.2 - 5.4 - 5.3\n",
        "Média dos saltos: 5.9 m"
      ],
      "metadata": {
        "id": "Y4-9e5WwRPoI"
      }
    },
    {
      "cell_type": "code",
      "source": [
        "lista = []\n",
        "while True:\n",
        "  nome = str(input(\"Qual é o nome do atleta? \"))\n",
        "  for i in range(1,6):\n",
        "    salto = float(input(f\"Qual foi a distância alcançada no {i}º salto, em metros2? \"))\n",
        "    lista.append(salto)\n",
        "  print(f\"Atleta: {nome}\\nPrimeiro Salto: {lista[0]}m\\nSegundo Salto: {lista[1]}m\\nTerceiro Salto: {lista[2]}m\\nQuarto Salto: {lista[3]}m\\nQuinto Salto: {lista[4]}m\")\n",
        "  media = sum(lista) / len(lista)\n",
        "  print(f\"Resultado final: Atleta {nome}:\\nSaltos: {lista[0]}m - {lista[1]}m - {lista[2]}m - {lista[3]}m - {lista[4]}m\\nMédia dos saltos: {media}m\")\n",
        "  escolha = int(input(\"Para registrar outro atleta, digite 1 ou, para sair, digite qualquer outra coisa \"))\n",
        "  if escolha != 1:\n",
        "    break\n",
        "\n"
      ],
      "metadata": {
        "colab": {
          "base_uri": "https://localhost:8080/"
        },
        "id": "TQIn_4dxRSTv",
        "outputId": "89f3f30e-786d-4d45-c472-e8a8a8d9cd88"
      },
      "execution_count": 1,
      "outputs": [
        {
          "name": "stdout",
          "output_type": "stream",
          "text": [
            "Qual é o nome do atleta? phelps\n",
            "Qual foi a distância alcançada no 1º salto, em metros2? 10\n",
            "Qual foi a distância alcançada no 2º salto, em metros2? 20\n",
            "Qual foi a distância alcançada no 3º salto, em metros2? 10\n",
            "Qual foi a distância alcançada no 4º salto, em metros2? 30\n",
            "Qual foi a distância alcançada no 5º salto, em metros2? 20\n",
            "Atleta: phelps\n",
            "Primeiro Salto: 10.0m\n",
            "Segundo Salto: 20.0m\n",
            "Terceiro Salto: 10.0m\n",
            "Quarto Salto: 30.0m\n",
            "Quinto Salto: 20.0m\n",
            "Resultado final: Atleta phelps:\n",
            "Saltos: 10.0m - 20.0m - 10.0m - 30.0m - 20.0m\n",
            "Média dos saltos: 18.0m\n",
            "Para registrar outro atleta, digite 1 ou, para sair, digite qualquer outra coisa 0\n"
          ]
        }
      ]
    },
    {
      "cell_type": "markdown",
      "source": [
        "Questão 03: Faça um programa que receba a temperatura média de cada mês do ano e armazene-as em uma lista. Após isto, calcule a média anual das temperaturas e mostre todas as temperaturas acima da média anual, e em que mês elas ocorreram."
      ],
      "metadata": {
        "id": "bZ2_mURoRSlv"
      }
    },
    {
      "cell_type": "code",
      "source": [
        "lista_temp_media = []\n",
        "meses = ['Janeiro', 'Fevereiro', 'Março', 'Abril', 'Maio', 'Junho', 'Julho', 'Agosto', 'Setembro', 'Outubro', 'Novembro', 'Dezembro']\n",
        "for i in range(12):\n",
        "  temp_media = float(input(f\"Insira a temperatura média do mês de {meses[i]}, em Celsius: \"))\n",
        "  lista_temp_media.append(temp_media)\n",
        "media = sum(lista_temp_media) / len(lista_temp_media)\n",
        "print(f\"Temperatura média anual: {media}° C\")\n",
        "for i in range(len(lista_temp_media)):\n",
        "  if lista_temp_media[i] > media:\n",
        "    print(\"Meses com temperatura acima da média anual: \")\n",
        "    print(f\"{meses[i]}: {lista_temp_media[i]}° C\")\n",
        "  else:\n",
        "    print(\"Não houve nenhum mês com temperatura média maior que a temperatura media anual.\")\n",
        "    break"
      ],
      "metadata": {
        "colab": {
          "base_uri": "https://localhost:8080/"
        },
        "id": "JRxGOwmTRVOQ",
        "outputId": "18225c73-c16a-454b-a96d-02cbff38f3d2"
      },
      "execution_count": null,
      "outputs": [
        {
          "output_type": "stream",
          "name": "stdout",
          "text": [
            "Insira a temperatura média do mês de Janeiro, em Celsius: 1\n",
            "Insira a temperatura média do mês de Fevereiro, em Celsius: 1\n",
            "Insira a temperatura média do mês de Março, em Celsius: 1\n",
            "Insira a temperatura média do mês de Abril, em Celsius: 1\n",
            "Insira a temperatura média do mês de Maio, em Celsius: 1\n",
            "Insira a temperatura média do mês de Junho, em Celsius: 1\n",
            "Insira a temperatura média do mês de Julho, em Celsius: 1\n",
            "Insira a temperatura média do mês de Agosto, em Celsius: 1\n",
            "Insira a temperatura média do mês de Setembro, em Celsius: 1\n",
            "Insira a temperatura média do mês de Outubro, em Celsius: 1\n",
            "Insira a temperatura média do mês de Novembro, em Celsius: 1\n",
            "Insira a temperatura média do mês de Dezembro, em Celsius: 1\n",
            "Temperatura média anual: 1.0° C\n",
            "Não houve nenhum mês com temperatura média maior que a temperatura media anual.\n"
          ]
        }
      ]
    },
    {
      "cell_type": "markdown",
      "source": [
        "Questão 04: Faça um Programa que leia uma lista com 10 números inteiros aleatórios, calcule e mostre a soma dos quadrados dos elementos dessa lista."
      ],
      "metadata": {
        "id": "2cAOgr-6RVgK"
      }
    },
    {
      "cell_type": "code",
      "source": [
        "from random import randint\n",
        "lista = []\n",
        "quadrados = []\n",
        "for i in range(10):\n",
        "  num_aleatorio = randint(1,10)\n",
        "  lista.append(num_aleatorio)\n",
        "print(f\"Lista de números: {lista}\")\n",
        "for i in lista:\n",
        "  quadrado = i ** 2\n",
        "  quadrados.append(quadrado)\n",
        "soma_qd = sum(quadrados)\n",
        "print(f\"Lista dos quadrados: {quadrados}\\nSoma dos quadrados: {soma_qd}\")\n",
        "\n"
      ],
      "metadata": {
        "colab": {
          "base_uri": "https://localhost:8080/"
        },
        "id": "HSk4_q4KRV1o",
        "outputId": "42d6f87f-ab77-434c-fb2f-6bc405f97037"
      },
      "execution_count": null,
      "outputs": [
        {
          "output_type": "stream",
          "name": "stdout",
          "text": [
            "Lista de números: [3, 2, 8, 2, 5, 2, 5, 4, 2, 5]\n",
            "Lista dos quadrados: [9, 4, 64, 4, 25, 4, 25, 16, 4, 25]\n",
            "Soma dos quadrados: 180\n"
          ]
        }
      ]
    }
  ]
}