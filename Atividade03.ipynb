{
  "nbformat": 4,
  "nbformat_minor": 0,
  "metadata": {
    "colab": {
      "provenance": [],
      "authorship_tag": "ABX9TyOMuMEPuXecFdnxU87J6vB6",
      "include_colab_link": true
    },
    "kernelspec": {
      "name": "python3",
      "display_name": "Python 3"
    },
    "language_info": {
      "name": "python"
    }
  },
  "cells": [
    {
      "cell_type": "markdown",
      "metadata": {
        "id": "view-in-github",
        "colab_type": "text"
      },
      "source": [
        "<a href=\"https://colab.research.google.com/github/rafaelalves06/Programming-Logic/blob/main/Atividade03.ipynb\" target=\"_parent\"><img src=\"https://colab.research.google.com/assets/colab-badge.svg\" alt=\"Open In Colab\"/></a>"
      ]
    },
    {
      "cell_type": "markdown",
      "source": [
        "Questão 01: Desenvolva um programa em Python onde ele irá perguntar: nome completo, idade e endereço. Em seguida, utilize o comando \"print\" para exibir as informações em linha diferentes.\n",
        "\n"
      ],
      "metadata": {
        "id": "e3F2cCVxNpGi"
      }
    },
    {
      "cell_type": "code",
      "source": [
        "nome = \"Rafael\"\n",
        "idade = 17\n",
        "endereco = \"Hermes Fontes\"\n",
        "print(\"Meu nome é\", nome); print(\"Tenho\", idade, \"anos\"); print(\"Moro na\", endereco)"
      ],
      "metadata": {
        "colab": {
          "base_uri": "https://localhost:8080/"
        },
        "id": "ms8OsFhpNqJ5",
        "outputId": "ac04a9ac-6716-4ce1-ce5b-b3d6aeba3520"
      },
      "execution_count": null,
      "outputs": [
        {
          "output_type": "stream",
          "name": "stdout",
          "text": [
            "Meu nome é Rafael\n",
            "Tenho 17 anos\n",
            "Moro na Hermes Fontes\n"
          ]
        }
      ]
    },
    {
      "cell_type": "markdown",
      "source": [
        "Questão 02: Você terá umas férias maravilhosas que começam no dia 4 de janeiro em quarta-feira. Você retornará das sua férias depois de 137 noites (Uauu!). Escreva um programa que mostre  o mês e o dia da semana de sua volta.\n",
        "\n"
      ],
      "metadata": {
        "id": "OcBKe4UUQMgV"
      }
    },
    {
      "cell_type": "code",
      "source": [
        "mes = 30\n",
        "hoje = 4\n",
        "ferias = 137\n",
        "fim = ferias + hoje\n",
        "volta = ferias % mes\n",
        "mesFinal = ferias / mes + 1\n",
        "\n",
        "print(\"Você voltará de férias no dia\", volta, \"do mês\", int(mesFinal))\n",
        "\n",
        "\n"
      ],
      "metadata": {
        "colab": {
          "base_uri": "https://localhost:8080/"
        },
        "id": "yiTjoinbPQ9_",
        "outputId": "c9408fc2-7681-4f44-b0eb-26a3f685e457"
      },
      "execution_count": null,
      "outputs": [
        {
          "output_type": "stream",
          "name": "stdout",
          "text": [
            "Você voltará de férias no dia 17 do mês 5\n"
          ]
        }
      ]
    },
    {
      "cell_type": "code",
      "source": [
        "# Questão 03: Desenvolva um programa que determine o tempo necessário para alcançar\n",
        "# R$ 100.000,00 em um investimento inicial de R$ 500,00, com aportes mensais de\n",
        "# R$ 500,00 e uma taxa de juros de 1% ao mês."
      ],
      "metadata": {
        "id": "vyWHOANbYv3l"
      },
      "execution_count": null,
      "outputs": []
    },
    {
      "cell_type": "code",
      "source": [
        "investimentoInicial = 500\n",
        "aporteMensal = 500\n",
        "juros = 0.01\n",
        "calculo = investimentoInicial * (1 + juros) + aporteMensal\n",
        "mes=1\n",
        "while calculo <100000:\n",
        "  calculo = calculo*(juros+1) + aporteMensal\n",
        "  mes=mes+1\n",
        "print(\"O tempo necessário para alcançar R$ 100.000 será igual a\", mes, \"meses\")\n"
      ],
      "metadata": {
        "colab": {
          "base_uri": "https://localhost:8080/"
        },
        "id": "m8kiympQU2im",
        "outputId": "eedf2afd-73f7-46ef-e861-16799660fab8"
      },
      "execution_count": null,
      "outputs": [
        {
          "output_type": "stream",
          "name": "stdout",
          "text": [
            "O tempo necessário para alcançar R$ 100.000 será igual a 110 meses\n"
          ]
        }
      ]
    },
    {
      "cell_type": "code",
      "source": [],
      "metadata": {
        "id": "JiT87ft5pWU6"
      },
      "execution_count": null,
      "outputs": []
    }
  ]
}