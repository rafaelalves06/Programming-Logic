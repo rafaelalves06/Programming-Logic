{
  "cells": [
    {
      "cell_type": "markdown",
      "metadata": {
        "id": "view-in-github",
        "colab_type": "text"
      },
      "source": [
        "<a href=\"https://colab.research.google.com/github/rafaelalves06/Programming-Logic/blob/main/Atividade_06_2o_bim.ipynb\" target=\"_parent\"><img src=\"https://colab.research.google.com/assets/colab-badge.svg\" alt=\"Open In Colab\"/></a>"
      ]
    },
    {
      "cell_type": "markdown",
      "metadata": {
        "id": "2uS1ZdryKJQ-"
      },
      "source": [
        "Questão 01: Escreva um programa que permita cadastrar um dicionário contendo informações de um voo, incluindo a origem, destino, horário de partida, horário de chegada. Após cadastrar os dados, o programa deve exibir as informações do voo e perguntar ao usuário se deseja cadastrar outro voo.  "
      ]
    },
    {
      "cell_type": "markdown",
      "metadata": {
        "id": "BWSkYVGSKJPf"
      },
      "source": []
    },
    {
      "cell_type": "code",
      "execution_count": null,
      "metadata": {
        "colab": {
          "base_uri": "https://localhost:8080/"
        },
        "id": "jVVLgdJyJ92R",
        "outputId": "0ebe8c95-73fc-4f03-d59e-f4cce01f1c4d"
      },
      "outputs": [
        {
          "name": "stdout",
          "output_type": "stream",
          "text": [
            "Qual é a origem do voo? aju\n",
            "Qual é o destino do voo? gru\n",
            "Qual é a hora de partida do voo, no formato HH:MM? 16:30\n",
            "Qual é a hora de chegada do voo, no formato HH:MM?20:00\n",
            "Origem do voo: aju\n",
            "Destino do voo: gru\n",
            "Hora de partida: 16:30\n",
            "Hora de chegada: 20:00\n",
            "Digite 1 para registrar um novo voo ou qualquer outra tecla para encerrar o programa. 0\n"
          ]
        }
      ],
      "source": [
        "def cadastrar_voo():\n",
        "  while True:\n",
        "    origem = str(input(\"Qual é a origem do voo? \"))\n",
        "    destino = str(input(\"Qual é o destino do voo? \"))\n",
        "    hora_partida = str(input(\"Qual é a hora de partida do voo, no formato HH:MM? \"))\n",
        "    hora_chegada = str(input(\"Qual é a hora de chegada do voo, no formato HH:MM? \"))\n",
        "    dicionario = {\"Origem do voo\": origem,\n",
        "                \"Destino do voo\": destino,\n",
        "                \"Hora de partida\": hora_partida,\n",
        "                \"Hora de chegada\": hora_chegada\n",
        "                }\n",
        "    for i in dicionario:\n",
        "      print(f\"{i}: {dicionario[i]}\")\n",
        "    escolha = int(input(\"Digite 1 para registrar um novo voo ou qualquer outra tecla para encerrar o programa. \"))\n",
        "    if escolha == 1:\n",
        "      continue\n",
        "    else:\n",
        "      break\n",
        "cadastrar_voo()"
      ]
    },
    {
      "cell_type": "markdown",
      "metadata": {
        "id": "ex7_mEq4KKJg"
      },
      "source": [
        "Questão 02: Desenvolva um sistema simples de gerenciamento de estacionamento utilizando listas em Python. O sistema deve permitir a entrada e saída de veículos, armazenando suas placas em uma lista. Além disso, o programa deve exibir o estado atual do estacionamento, mostrando as placas dos veículos presentes. Implemente funcionalidades para adicionar um veículo à lista ao entrar, removê-lo ao sair, e exibir os veículos estacionados."
      ]
    },
    {
      "cell_type": "code",
      "execution_count": null,
      "metadata": {
        "colab": {
          "background_save": true,
          "base_uri": "https://localhost:8080/"
        },
        "id": "m3GWULTlKKdW",
        "outputId": "38bf6f33-88e7-4300-bd9d-6394a127c581"
      },
      "outputs": [
        {
          "name": "stdout",
          "output_type": "stream",
          "text": [
            "O carro com placa 'POW-1230' foi adicionado.\n",
            "\n",
            "O carro com placa 'paoz-3' foi adicionado.\n",
            "\n",
            "Há 2 carro(s) no estacionamento no momento.\n",
            "Placa(s) dos carro(s) no estacionamento:\n",
            "POW-1230\n",
            "paoz-3\n",
            "O carro com placa 'paoz-3' foi removido.\n",
            "\n",
            "Não existe um carro com a placa 'paoz-3' no estacionamento\n",
            "\n",
            "Há 1 carro(s) no estacionamento no momento.\n",
            "Placa(s) dos carro(s) no estacionamento:\n",
            "POW-1230\n"
          ]
        }
      ],
      "source": [
        "def sistema_estacionamento():\n",
        "  lista = []\n",
        "  cont = 0\n",
        "  while True:\n",
        "    escolha = int(input(\"Pressione '1' para adicionar um veículo ao estacionamento, '2' para retirar um veículo ou '3' para exibir os veículos estacionados: \"))\n",
        "\n",
        "    if escolha == 1:\n",
        "      placa_add = str(input(\"Digite a placa do carro a ser adicionado a ser estacionado: \"))\n",
        "      lista.append(placa_add)\n",
        "      print(f\"O carro com placa '{placa_add}' foi adicionado.\\n\")\n",
        "      cont+=1\n",
        "\n",
        "    elif escolha == 2:\n",
        "      placa_rm = str(input(\"Digite a placa do carro a ser removido: \"))\n",
        "      if placa_rm in lista:\n",
        "        print(f\"O carro com placa '{placa_rm}' foi removido.\\n\")\n",
        "        lista.remove(placa_rm)\n",
        "        cont-=1\n",
        "      else:\n",
        "        print(f\"Não existe um carro com a placa '{placa_rm}' no estacionamento\\n\")\n",
        "        continue\n",
        "\n",
        "    elif escolha == 3:\n",
        "      if len(lista) > 0:\n",
        "        print(f\"Há {cont} carro(s) no estacionamento no momento.\")\n",
        "        print(f\"Placa(s) dos carro(s) no estacionamento:\")\n",
        "        for i in lista:\n",
        "          print(i)\n",
        "      else:\n",
        "        print(\"O estacionamento está vazio no momento.\")\n",
        "\n",
        "sistema_estacionamento()"
      ]
    }
  ],
  "metadata": {
    "colab": {
      "provenance": [],
      "authorship_tag": "ABX9TyNoEH82Wss5uyG1kX3TUPkR",
      "include_colab_link": true
    },
    "kernelspec": {
      "display_name": "Python 3",
      "name": "python3"
    },
    "language_info": {
      "name": "python"
    }
  },
  "nbformat": 4,
  "nbformat_minor": 0
}