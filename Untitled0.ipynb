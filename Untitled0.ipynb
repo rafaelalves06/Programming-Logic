{
  "nbformat": 4,
  "nbformat_minor": 0,
  "metadata": {
    "colab": {
      "provenance": [],
      "authorship_tag": "ABX9TyNeMJDMthQuFtj4qkI7qu0I",
      "include_colab_link": true
    },
    "kernelspec": {
      "name": "python3",
      "display_name": "Python 3"
    },
    "language_info": {
      "name": "python"
    }
  },
  "cells": [
    {
      "cell_type": "markdown",
      "metadata": {
        "id": "view-in-github",
        "colab_type": "text"
      },
      "source": [
        "<a href=\"https://colab.research.google.com/github/rafaelalves06/Programming-Logic/blob/main/Untitled0.ipynb\" target=\"_parent\"><img src=\"https://colab.research.google.com/assets/colab-badge.svg\" alt=\"Open In Colab\"/></a>"
      ]
    },
    {
      "cell_type": "markdown",
      "source": [
        "Questão 01\n",
        "Faça um programa que leia 5 números informando o maior número, menor número e a soma entre eles."
      ],
      "metadata": {
        "id": "Kn-Sliv5D3Ar"
      }
    },
    {
      "cell_type": "code",
      "source": [
        "maior = float('-inf')\n",
        "menor = float('inf')\n",
        "soma = 0\n",
        "for i in range(5):\n",
        "    numero = float(input(f'Digite o {i+1}º número: '))\n",
        "    if numero > maior:\n",
        "        maior = numero\n",
        "    elif numero < menor:\n",
        "        menor = numero\n",
        "    soma += numero\n",
        "\n",
        "print(f'O maior número digitado é: {maior}\\n')\n",
        "print(f'O menor número digitado é: {menor}\\n')\n",
        "print(f'A soma dos números digitados é: {soma}\\n')"
      ],
      "metadata": {
        "id": "WDOnGkwwD3gS"
      },
      "execution_count": null,
      "outputs": []
    },
    {
      "cell_type": "markdown",
      "source": [
        "Questão 02\n",
        "Faça um programa que peça 5 números inteiros, calcule e mostre a quantidade de números pares e a quantidade de números ímpares.\n",
        "\n"
      ],
      "metadata": {
        "id": "juq2bovUD34j"
      }
    },
    {
      "cell_type": "code",
      "source": [
        "par = 0\n",
        "impar = 0\n",
        "for i in range(5):\n",
        "  numero = int(input(\"Insira um número: \"))\n",
        "  if numero % 2 == 0:\n",
        "    par += 1\n",
        "  else:\n",
        "    impar += 1\n",
        "if par > 1 and impar > 1:\n",
        "  print(f\"{par} destes números foram par e {impar} destes números foram ímpar\")\n",
        "elif par > 1 and impar == 1:\n",
        "  print(f\"{par} destes números foram par e {impar} destes números foi ímpar\")\n",
        "elif par == 1 and impar > 1:\n",
        "  print(f\"{par} destes números foi par e {impar} destes números foram ímpar\")\n"
      ],
      "metadata": {
        "id": "RUPXvmtdD6Ar"
      },
      "execution_count": null,
      "outputs": []
    },
    {
      "cell_type": "markdown",
      "source": [
        "\n",
        "Questão 03\n",
        "Crie um programa que permita ao usuário tentar adivinhar uma senha até três vezes. Se a senha estiver correta, o programa deve imprimir uma mensagem de sucesso. Se após três tentativas a senha ainda estiver incorreta, o programa deve imprimir uma mensagem de falha e perguntar se deseja tentar novamente.\n"
      ],
      "metadata": {
        "id": "PtvsBCgXD74r"
      }
    },
    {
      "cell_type": "code",
      "source": [
        "num_tentativas = 0\n",
        "limite_tentativas = 3\n",
        "senha_correta = \"password\"\n",
        "\n",
        "while True:\n",
        "  tentativas_restantes = 3\n",
        "  tentativa = str(input(\"Tente adivinhar a senha: \"))\n",
        "  if tentativa == senha_correta:\n",
        "    print(\"Você acertou!\\n\")\n",
        "    break\n",
        "  else:\n",
        "    num_tentativas += 1\n",
        "    tentativas_restantes -= num_tentativas\n",
        "\n",
        "  if tentativas_restantes == 2:\n",
        "    print(f\"Tente novamente! Você pode tentar adivinhar a senha mais {tentativas_restantes} vezes.\")\n",
        "  elif tentativas_restantes == 1:\n",
        "    print(f\"Tente novamente! Você pode tentar adivinhar a senha mais {tentativas_restantes} vez.\")\n",
        "  if tentativas_restantes == 0:\n",
        "    sair = int(input(\"Suas tentativas acabaram! Deseja tentar novamente?\\nDigite 1 para tentar novamente ou qualquer outro número para sair.\\n9\"))\n",
        "    if sair == 1:\n",
        "      print(\"Continuando... \")\n",
        "      num_tentativas = 0\n",
        "      limite_tentativas = 3\n",
        "      tentativas_restantes = 3\n",
        "    else:\n",
        "      print(\"Encerrando...\\n\")\n",
        "      break\n",
        "\n",
        "\n"
      ],
      "metadata": {
        "id": "gzHQoCTZD8Xq"
      },
      "execution_count": null,
      "outputs": []
    },
    {
      "cell_type": "markdown",
      "source": [
        "Questão 04\n",
        "Vamos criar um programa que permita ao professor inserir 4 notas de um aluno. Em seguida, o programa deve calcular a média das notas e informar se ele foi aprovado (nota >= 7) em seguida mostrar qual foi a maior e menor nota.  "
      ],
      "metadata": {
        "id": "z38GPs87ECx4"
      }
    },
    {
      "cell_type": "code",
      "source": [
        "aprovado = False\n",
        "while True:\n",
        "  nota1 = float(input(\"Insira a primeira nota: \"))\n",
        "  nota2 = float(input(\"Insira a segunda nota: \"))\n",
        "  nota3 = float(input(\"Insira a terceira nota: \"))\n",
        "  nota4 = float(input(\"Insira a quarta nota: \"))\n",
        "\n",
        "  soma_notas = nota1+nota2+nota3+nota4\n",
        "  media = soma_notas / 4\n",
        "  if media >= 7:\n",
        "    aprovado = True\n",
        "\n",
        "  if nota1 < nota2 and nota1 < nota3 and nota1 < nota4:\n",
        "    menor_nota = nota1\n",
        "  else:\n",
        "    maior_nota = nota1\n",
        "  if nota2 < nota1 and nota2 < nota3 and nota2 < nota4:\n",
        "    menor_nota = nota2\n",
        "  else:\n",
        "      maior_nota = nota2\n",
        "  if nota3 < nota1 and nota1 < nota2 and nota1 < nota4:\n",
        "    menor_nota = nota3\n",
        "  else:\n",
        "    maior_nota = nota3\n",
        "  if nota4 < nota1 and nota4 < nota2 and nota4 < nota3:\n",
        "    menor_nota = nota4\n",
        "  else:\n",
        "    maior_nota = nota4\n",
        "\n",
        "  if aprovado:\n",
        "    print(f\"O aluno foi aprovado. a sua maior nota foi {maior_nota} e a sua menor nota foi {menor_nota}\")\n",
        "  else:\n",
        "    print(f\"O aluno foi reprovado. A sua maior nota foi {maior_nota} e a sua menor nota foi {menor_nota}\")"
      ],
      "metadata": {
        "collapsed": true,
        "id": "X9vW789IEDkp"
      },
      "execution_count": null,
      "outputs": []
    }
  ]
}